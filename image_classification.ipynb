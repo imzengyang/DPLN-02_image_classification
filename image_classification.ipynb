{
 "cells": [
  {
   "cell_type": "markdown",
   "metadata": {
    "collapsed": true
   },
   "source": [
    "# Image Classification\n",
    "In this project, you'll classify images from the [CIFAR-10 dataset](https://www.cs.toronto.edu/~kriz/cifar.html).  The dataset consists of airplanes, dogs, cats, and other objects. You'll preprocess the images, then train a convolutional neural network on all the samples. The images need to be normalized and the labels need to be one-hot encoded.  You'll get to apply what you learned and build a convolutional, max pooling, dropout, and fully connected layers.  At the end, you'll get to see your neural network's predictions on the sample images.\n",
    "## Get the Data\n",
    "Run the following cell to download the [CIFAR-10 dataset for python](https://www.cs.toronto.edu/~kriz/cifar-10-python.tar.gz)."
   ]
  },
  {
   "cell_type": "code",
   "execution_count": 1,
   "metadata": {},
   "outputs": [
    {
     "name": "stdout",
     "output_type": "stream",
     "text": [
      "All files found!\n"
     ]
    }
   ],
   "source": [
    "\"\"\"\n",
    "DON'T MODIFY ANYTHING IN THIS CELL THAT IS BELOW THIS LINE\n",
    "\"\"\"\n",
    "from urllib.request import urlretrieve\n",
    "from os.path import isfile, isdir\n",
    "from tqdm import tqdm\n",
    "import problem_unittests as tests\n",
    "import tarfile\n",
    "\n",
    "cifar10_dataset_folder_path = 'cifar-10-batches-py'\n",
    "\n",
    "# Use Floyd's cifar-10 dataset if present\n",
    "floyd_cifar10_location = '/input/cifar-10/python.tar.gz'\n",
    "if isfile(floyd_cifar10_location):\n",
    "    tar_gz_path = floyd_cifar10_location\n",
    "else:\n",
    "    tar_gz_path = 'cifar-10-python.tar.gz'\n",
    "\n",
    "class DLProgress(tqdm):\n",
    "    last_block = 0\n",
    "\n",
    "    def hook(self, block_num=1, block_size=1, total_size=None):\n",
    "        self.total = total_size\n",
    "        self.update((block_num - self.last_block) * block_size)\n",
    "        self.last_block = block_num\n",
    "\n",
    "if not isfile(tar_gz_path):\n",
    "    with DLProgress(unit='B', unit_scale=True, miniters=1, desc='CIFAR-10 Dataset') as pbar:\n",
    "        urlretrieve(\n",
    "            'https://www.cs.toronto.edu/~kriz/cifar-10-python.tar.gz',\n",
    "            tar_gz_path,\n",
    "            pbar.hook)\n",
    "\n",
    "if not isdir(cifar10_dataset_folder_path):\n",
    "    with tarfile.open(tar_gz_path) as tar:\n",
    "        tar.extractall()\n",
    "        tar.close()\n",
    "\n",
    "\n",
    "tests.test_folder_path(cifar10_dataset_folder_path)"
   ]
  },
  {
   "cell_type": "markdown",
   "metadata": {},
   "source": [
    "## Explore the Data\n",
    "The dataset is broken into batches to prevent your machine from running out of memory.  The CIFAR-10 dataset consists of 5 batches, named `data_batch_1`, `data_batch_2`, etc.. Each batch contains the labels and images that are one of the following:\n",
    "* airplane\n",
    "* automobile\n",
    "* bird\n",
    "* cat\n",
    "* deer\n",
    "* dog\n",
    "* frog\n",
    "* horse\n",
    "* ship\n",
    "* truck\n",
    "\n",
    "Understanding a dataset is part of making predictions on the data.  Play around with the code cell below by changing the `batch_id` and `sample_id`. The `batch_id` is the id for a batch (1-5). The `sample_id` is the id for a image and label pair in the batch.\n",
    "\n",
    "Ask yourself \"What are all possible labels?\", \"What is the range of values for the image data?\", \"Are the labels in order or random?\".  Answers to questions like these will help you preprocess the data and end up with better predictions."
   ]
  },
  {
   "cell_type": "code",
   "execution_count": 2,
   "metadata": {},
   "outputs": [
    {
     "name": "stdout",
     "output_type": "stream",
     "text": [
      "\n",
      "Stats of batch 1:\n",
      "Samples: 10000\n",
      "Label Counts: {0: 1005, 1: 974, 2: 1032, 3: 1016, 4: 999, 5: 937, 6: 1030, 7: 1001, 8: 1025, 9: 981}\n",
      "First 20 Labels: [6, 9, 9, 4, 1, 1, 2, 7, 8, 3, 4, 7, 7, 2, 9, 9, 9, 3, 2, 6]\n",
      "\n",
      "Example of Image 5:\n",
      "Image - Min Value: 0 Max Value: 252\n",
      "Image - Shape: (32, 32, 3)\n",
      "Label - Label Id: 1 Name: automobile\n"
     ]
    },
    {
     "data": {
      "image/png": "[encoded data removed]",
      "text/plain": [
       "<matplotlib.figure.Figure at 0x1110ed8d0>"
      ]
     },
     "metadata": {
      "image/png": {
       "height": 250,
       "width": 253
      }
     },
     "output_type": "display_data"
    }
   ],
   "source": [
    "%matplotlib inline\n",
    "%config InlineBackend.figure_format = 'retina'\n",
    "\n",
    "import helper\n",
    "import numpy as np\n",
    "\n",
    "# Explore the dataset\n",
    "batch_id = 1\n",
    "sample_id = 5\n",
    "helper.display_stats(cifar10_dataset_folder_path, batch_id, sample_id)"
   ]
  },
  {
   "cell_type": "markdown",
   "metadata": {},
   "source": [
    "## Implement Preprocess Functions\n",
    "### Normalize\n",
    "In the cell below, implement the `normalize` function to take in image data, `x`, and return it as a normalized Numpy array. The values should be in the range of 0 to 1, inclusive.  The return object should be the same shape as `x`."
   ]
  },
  {
   "cell_type": "code",
   "execution_count": 3,
   "metadata": {},
   "outputs": [
    {
     "name": "stdout",
     "output_type": "stream",
     "text": [
      "Tests Passed\n"
     ]
    }
   ],
   "source": [
    "def normalize(x):\n",
    "    \"\"\"\n",
    "    Normalize a list of sample image data in the range of 0 to 1\n",
    "    : x: List of image data.  The image shape is (32, 32, 3)\n",
    "    : return: Numpy array of normalize data\n",
    "    \"\"\"\n",
    "    # TODO: Implement Function\n",
    "    # min = 0\n",
    "    # max = 255\n",
    "    # x_normalized = (x+min) / (max-min)\n",
    "    return x/255\n",
    "\n",
    "\n",
    "\"\"\"\n",
    "DON'T MODIFY ANYTHING IN THIS CELL THAT IS BELOW THIS LINE\n",
    "\"\"\"\n",
    "tests.test_normalize(normalize)"
   ]
  },
  {
   "cell_type": "markdown",
   "metadata": {},
   "source": [
    "### One-hot encode\n",
    "Just like the previous code cell, you'll be implementing a function for preprocessing.  This time, you'll implement the `one_hot_encode` function. The input, `x`, are a list of labels.  Implement the function to return the list of labels as One-Hot encoded Numpy array.  The possible values for labels are 0 to 9. The one-hot encoding function should return the same encoding for each value between each call to `one_hot_encode`.  Make sure to save the map of encodings outside the function.\n",
    "\n",
    "Hint: Don't reinvent the wheel."
   ]
  },
  {
   "cell_type": "code",
   "execution_count": 4,
   "metadata": {},
   "outputs": [
    {
     "name": "stdout",
     "output_type": "stream",
     "text": [
      "Tests Passed\n"
     ]
    }
   ],
   "source": [
    "def one_hot_encode(x):\n",
    "    \"\"\"\n",
    "    One hot encode a list of sample labels. Return a one-hot encoded vector for each label.\n",
    "    : x: List of sample Labels\n",
    "    : return: Numpy array of one-hot encoded labels\n",
    "    \"\"\"\n",
    "    # TODO: Implement Function\n",
    "    # make np.array with shape (lenght of x array, 10 labels)\n",
    "    output = np.array(np.zeros(len(x)*10)).reshape(len(x),10)\n",
    "    for i in range(len(x)):\n",
    "        one_hot = np.zeros(10)\n",
    "        one_hot[x[i]] = 1\n",
    "        output[i] = one_hot\n",
    "    return output\n",
    "\n",
    "\n",
    "\"\"\"\n",
    "DON'T MODIFY ANYTHING IN THIS CELL THAT IS BELOW THIS LINE\n",
    "\"\"\"\n",
    "tests.test_one_hot_encode(one_hot_encode)"
   ]
  },
  {
   "cell_type": "markdown",
   "metadata": {},
   "source": [
    "### Randomize Data\n",
    "As you saw from exploring the data above, the order of the samples are randomized.  It doesn't hurt to randomize it again, but you don't need to for this dataset."
   ]
  },
  {
   "cell_type": "markdown",
   "metadata": {},
   "source": [
    "## Preprocess all the data and save it\n",
    "Running the code cell below will preprocess all the CIFAR-10 data and save it to file. The code below also uses 10% of the training data for validation."
   ]
  },
  {
   "cell_type": "code",
   "execution_count": 5,
   "metadata": {
    "collapsed": true
   },
   "outputs": [],
   "source": [
    "\"\"\"\n",
    "DON'T MODIFY ANYTHING IN THIS CELL\n",
    "\"\"\"\n",
    "# Preprocess Training, Validation, and Testing Data\n",
    "helper.preprocess_and_save_data(cifar10_dataset_folder_path, normalize, one_hot_encode)"
   ]
  },
  {
   "cell_type": "markdown",
   "metadata": {},
   "source": [
    "# Check Point\n",
    "This is your first checkpoint.  If you ever decide to come back to this notebook or have to restart the notebook, you can start from here.  The preprocessed data has been saved to disk."
   ]
  },
  {
   "cell_type": "code",
   "execution_count": 6,
   "metadata": {
    "collapsed": true
   },
   "outputs": [],
   "source": [
    "\"\"\"\n",
    "DON'T MODIFY ANYTHING IN THIS CELL\n",
    "\"\"\"\n",
    "import pickle\n",
    "import problem_unittests as tests\n",
    "import helper\n",
    "\n",
    "# Load the Preprocessed Validation data\n",
    "valid_features, valid_labels = pickle.load(open('preprocess_validation.p', mode='rb'))"
   ]
  },
  {
   "cell_type": "markdown",
   "metadata": {},
   "source": [
    "## Build the network\n",
    "For the neural network, you'll build each layer into a function.  Most of the code you've seen has been outside of functions. To test your code more thoroughly, we require that you put each layer in a function.  This allows us to give you better feedback and test for simple mistakes using our unittests before you submit your project.\n",
    "\n",
    ">**Note:** If you're finding it hard to dedicate enough time for this course each week, we've provided a small shortcut to this part of the project. In the next couple of problems, you'll have the option to use classes from the [TensorFlow Layers](https://www.tensorflow.org/api_docs/python/tf/layers) or [TensorFlow Layers (contrib)](https://www.tensorflow.org/api_guides/python/contrib.layers) packages to build each layer, except the layers you build in the \"Convolutional and Max Pooling Layer\" section.  TF Layers is similar to Keras's and TFLearn's abstraction to layers, so it's easy to pickup.\n",
    "\n",
    ">However, if you would like to get the most out of this course, try to solve all the problems _without_ using anything from the TF Layers packages. You **can** still use classes from other packages that happen to have the same name as ones you find in TF Layers! For example, instead of using the TF Layers version of the `conv2d` class, [tf.layers.conv2d](https://www.tensorflow.org/api_docs/python/tf/layers/conv2d), you would want to use the TF Neural Network version of `conv2d`, [tf.nn.conv2d](https://www.tensorflow.org/api_docs/python/tf/nn/conv2d). \n",
    "\n",
    "Let's begin!\n",
    "\n",
    "### Input\n",
    "The neural network needs to read the image data, one-hot encoded labels, and dropout keep probability. Implement the following functions\n",
    "* Implement `neural_net_image_input`\n",
    " * Return a [TF Placeholder](https://www.tensorflow.org/api_docs/python/tf/placeholder)\n",
    " * Set the shape using `image_shape` with batch size set to `None`.\n",
    " * Name the TensorFlow placeholder \"x\" using the TensorFlow `name` parameter in the [TF Placeholder](https://www.tensorflow.org/api_docs/python/tf/placeholder).\n",
    "* Implement `neural_net_label_input`\n",
    " * Return a [TF Placeholder](https://www.tensorflow.org/api_docs/python/tf/placeholder)\n",
    " * Set the shape using `n_classes` with batch size set to `None`.\n",
    " * Name the TensorFlow placeholder \"y\" using the TensorFlow `name` parameter in the [TF Placeholder](https://www.tensorflow.org/api_docs/python/tf/placeholder).\n",
    "* Implement `neural_net_keep_prob_input`\n",
    " * Return a [TF Placeholder](https://www.tensorflow.org/api_docs/python/tf/placeholder) for dropout keep probability.\n",
    " * Name the TensorFlow placeholder \"keep_prob\" using the TensorFlow `name` parameter in the [TF Placeholder](https://www.tensorflow.org/api_docs/python/tf/placeholder).\n",
    "\n",
    "These names will be used at the end of the project to load your saved model.\n",
    "\n",
    "Note: `None` for shapes in TensorFlow allow for a dynamic size."
   ]
  },
  {
   "cell_type": "code",
   "execution_count": 7,
   "metadata": {},
   "outputs": [
    {
     "name": "stdout",
     "output_type": "stream",
     "text": [
      "Image Input Tests Passed.\n",
      "Label Input Tests Passed.\n",
      "Keep Prob Tests Passed.\n"
     ]
    }
   ],
   "source": [
    "import tensorflow as tf\n",
    "\n",
    "def neural_net_image_input(image_shape):\n",
    "    \"\"\"\n",
    "    Return a Tensor for a batch of image input\n",
    "    : image_shape: Shape of the images\n",
    "    : return: Tensor for image input.\n",
    "    \"\"\"\n",
    "    # TODO: Implement Function\n",
    "    # placeholder for input x, with image shape, type is float32\n",
    "    \n",
    "        \n",
    "    return tf.placeholder(tf.float32, shape=[None,*image_shape], name='x')\n",
    "\n",
    "\n",
    "def neural_net_label_input(n_classes):\n",
    "    \"\"\"\n",
    "    Return a Tensor for a batch of label input\n",
    "    : n_classes: Number of classes\n",
    "    : return: Tensor for label input.\n",
    "    \"\"\"\n",
    "    # TODO: Implement Function\n",
    "    return tf.placeholder(tf.float32, shape=(None, n_classes), name='y')\n",
    "\n",
    "\n",
    "def neural_net_keep_prob_input():\n",
    "    \"\"\"\n",
    "    Return a Tensor for keep probability\n",
    "    : return: Tensor for keep probability.\n",
    "    \"\"\"\n",
    "    # TODO: Implement Function\n",
    "    return tf.placeholder(tf.float32, name='keep_prob')\n",
    "\n",
    "\n",
    "\"\"\"\n",
    "DON'T MODIFY ANYTHING IN THIS CELL THAT IS BELOW THIS LINE\n",
    "\"\"\"\n",
    "tf.reset_default_graph()\n",
    "tests.test_nn_image_inputs(neural_net_image_input)\n",
    "tests.test_nn_label_inputs(neural_net_label_input)\n",
    "tests.test_nn_keep_prob_inputs(neural_net_keep_prob_input)"
   ]
  },
  {
   "cell_type": "markdown",
   "metadata": {},
   "source": [
    "### Convolution and Max Pooling Layer\n",
    "Convolution layers have a lot of success with images. For this code cell, you should implement the function `conv2d_maxpool` to apply convolution then max pooling:\n",
    "* Create the weight and bias using `conv_ksize`, `conv_num_outputs` and the shape of `x_tensor`.\n",
    "* Apply a convolution to `x_tensor` using weight and `conv_strides`.\n",
    " * We recommend you use same padding, but you're welcome to use any padding.\n",
    "* Add bias\n",
    "* Add a nonlinear activation to the convolution.\n",
    "* Apply Max Pooling using `pool_ksize` and `pool_strides`.\n",
    " * We recommend you use same padding, but you're welcome to use any padding.\n",
    "\n",
    "**Note:** You **can't** use [TensorFlow Layers](https://www.tensorflow.org/api_docs/python/tf/layers) or [TensorFlow Layers (contrib)](https://www.tensorflow.org/api_guides/python/contrib.layers) for **this** layer, but you can still use TensorFlow's [Neural Network](https://www.tensorflow.org/api_docs/python/tf/nn) package. You may still use the shortcut option for all the **other** layers."
   ]
  },
  {
   "cell_type": "code",
   "execution_count": 8,
   "metadata": {},
   "outputs": [
    {
     "name": "stdout",
     "output_type": "stream",
     "text": [
      "Tests Passed\n"
     ]
    }
   ],
   "source": [
    "def conv2d_maxpool(x_tensor, conv_num_outputs, conv_ksize, conv_strides, pool_ksize, pool_strides):\n",
    "    \"\"\"\n",
    "    Apply convolution then max pooling to x_tensor\n",
    "    :param x_tensor: TensorFlow Tensor\n",
    "    :param conv_num_outputs: Number of outputs for the convolutional layer\n",
    "    :param conv_ksize: kernal size 2-D Tuple for the convolutional layer\n",
    "    :param conv_strides: Stride 2-D Tuple for convolution\n",
    "    :param pool_ksize: kernal size 2-D Tuple for pool\n",
    "    :param pool_strides: Stride 2-D Tuple for pool\n",
    "    : return: A tensor that represents convolution and max pooling of x_tensor\n",
    "    \"\"\"\n",
    "    # TODO: Implement Function\n",
    "    #0 Calculate shape of filter\n",
    "    \n",
    "    #print(x_tensor.get_shape()[3]) # ?, 32, 32, 5\n",
    "    #print(conv_num_outputs) # 10\n",
    "    #print(conv_ksize) # 2, 2\n",
    "    #print(conv_strides) # 4, 4\n",
    "    #print(pool_ksize) # 2, 2\n",
    "    #print(pool_strides) # 2,2\n",
    "    \n",
    "    # filter : hight , width, depth_in, depth_out\n",
    "#     w_shape   = conv_ksize + (x_tensor.get_shape().as_list()[3],) + (conv_num_outputs,)\n",
    "    \n",
    "#     c_strides = (1,) + conv_strides + (1,)\n",
    "#     p_ksize   = (1,) + pool_ksize   + (1,)\n",
    "#     p_strides = (1,) + pool_strides + (1,)\n",
    "    \n",
    "#     #1 Create weights for convolutional layer\n",
    "#     weight = tf.Variable(tf.truncated_normal(\n",
    "#         shape= w_shape,\n",
    "#         mean = 0.0,\n",
    "#         stddev = 0.1,\n",
    "#         dtype = tf.float32\n",
    "#     ))\n",
    "#     #2 Create bias for convolutinal layer, depth = conv_num_outputs\n",
    "#     bias = tf.Variable(tf.zeros(conv_num_outputs))\n",
    "    \n",
    "#     #3 build the convolutinal layer\n",
    "#     conv2d = tf.nn.conv2d(x_tensor, filter=weight, strides=c_strides, padding='SAME')\n",
    "#     conv2d = tf.nn.bias_add(conv2d, bias)\n",
    "#     conv2d = tf.nn.relu(conv2d)\n",
    "    \n",
    "#     #4 build the max_pool layer\n",
    "#     max_pool = tf.nn.max_pool(conv2d, ksize=p_ksize, strides=p_strides, padding='SAME')\n",
    "    \n",
    "#     return max_pool\n",
    "#  -------------------------\n",
    "    height = conv_ksize[0]\n",
    "    \n",
    "    width = conv_ksize[1]\n",
    "    \n",
    "    color_chanels = x_tensor.get_shape().as_list()[3]\n",
    "    \n",
    "    \n",
    "    weights = tf.Variable(tf.truncated_normal([height,width,color_chanels,conv_num_outputs]))\n",
    "    \n",
    "    \n",
    "    biases = tf.Variable(tf.zeros(conv_num_outputs))\n",
    "\n",
    "    conv_layer = tf.nn.conv2d(x_tensor,weights,strides=[1,conv_strides[0],conv_strides[1],1],padding='SAME')\n",
    "    \n",
    "    conv_layer = tf.nn.bias_add(conv_layer,biases)\n",
    "    conv_layer = tf.nn.relu(conv_layer)\n",
    "    conv_layer = tf.nn.max_pool(conv_layer, ksize=[1, pool_ksize[0], pool_ksize[1], 1], \\\n",
    "                    strides=[1, pool_strides[0], pool_strides[1], 1], padding='SAME')\n",
    "      \n",
    "    return conv_layer\n",
    "\n",
    "\n",
    "\"\"\"\n",
    "DON'T MODIFY ANYTHING IN THIS CELL THAT IS BELOW THIS LINE\n",
    "\"\"\"\n",
    "tests.test_con_pool(conv2d_maxpool)"
   ]
  },
  {
   "cell_type": "markdown",
   "metadata": {},
   "source": [
    "### Flatten Layer\n",
    "Implement the `flatten` function to change the dimension of `x_tensor` from a 4-D tensor to a 2-D tensor.  The output should be the shape (*Batch Size*, *Flattened Image Size*). Shortcut option: you can use classes from the [TensorFlow Layers](https://www.tensorflow.org/api_docs/python/tf/layers) or [TensorFlow Layers (contrib)](https://www.tensorflow.org/api_guides/python/contrib.layers) packages for this layer. For more of a challenge, only use other TensorFlow packages."
   ]
  },
  {
   "cell_type": "code",
   "execution_count": 9,
   "metadata": {},
   "outputs": [
    {
     "name": "stdout",
     "output_type": "stream",
     "text": [
      "Tests Passed\n"
     ]
    }
   ],
   "source": [
    "def flatten(x_tensor):\n",
    "    \"\"\"\n",
    "    Flatten x_tensor to (Batch Size, Flattened Image Size)\n",
    "    : x_tensor: A tensor of size (Batch Size, ...), where ... are the image dimensions.\n",
    "    : return: A tensor of size (Batch Size, Flattened Image Size).\n",
    "    \"\"\"\n",
    "    # TODO: Implement Function\n",
    "    return tf.contrib.layers.flatten(x_tensor)\n",
    "\n",
    "\n",
    "\"\"\"\n",
    "DON'T MODIFY ANYTHING IN THIS CELL THAT IS BELOW THIS LINE\n",
    "\"\"\"\n",
    "tests.test_flatten(flatten)"
   ]
  },
  {
   "cell_type": "markdown",
   "metadata": {},
   "source": [
    "### Fully-Connected Layer\n",
    "Implement the `fully_conn` function to apply a fully connected layer to `x_tensor` with the shape (*Batch Size*, *num_outputs*). Shortcut option: you can use classes from the [TensorFlow Layers](https://www.tensorflow.org/api_docs/python/tf/layers) or [TensorFlow Layers (contrib)](https://www.tensorflow.org/api_guides/python/contrib.layers) packages for this layer. For more of a challenge, only use other TensorFlow packages."
   ]
  },
  {
   "cell_type": "code",
   "execution_count": 10,
   "metadata": {},
   "outputs": [
    {
     "name": "stdout",
     "output_type": "stream",
     "text": [
      "Tests Passed\n"
     ]
    }
   ],
   "source": [
    "def fully_conn(x_tensor, num_outputs):\n",
    "    \"\"\"\n",
    "    Apply a fully connected layer to x_tensor using weight and bias\n",
    "    : x_tensor: A 2-D tensor where the first dimension is batch size.\n",
    "    : num_outputs: The number of output that the new tensor should be.\n",
    "    : return: A 2-D tensor where the second dimension is num_outputs.\n",
    "    \"\"\"\n",
    "    # TODO: Implement Function\n",
    "    return tf.layers.dense(\n",
    "      inputs=x_tensor,\n",
    "      units=num_outputs)\n",
    "\n",
    "\n",
    "\"\"\"\n",
    "DON'T MODIFY ANYTHING IN THIS CELL THAT IS BELOW THIS LINE\n",
    "\"\"\"\n",
    "tests.test_fully_conn(fully_conn)"
   ]
  },
  {
   "cell_type": "markdown",
   "metadata": {},
   "source": [
    "### Output Layer\n",
    "Implement the `output` function to apply a fully connected layer to `x_tensor` with the shape (*Batch Size*, *num_outputs*). Shortcut option: you can use classes from the [TensorFlow Layers](https://www.tensorflow.org/api_docs/python/tf/layers) or [TensorFlow Layers (contrib)](https://www.tensorflow.org/api_guides/python/contrib.layers) packages for this layer. For more of a challenge, only use other TensorFlow packages.\n",
    "\n",
    "**Note:** Activation, softmax, or cross entropy should **not** be applied to this."
   ]
  },
  {
   "cell_type": "code",
   "execution_count": 11,
   "metadata": {},
   "outputs": [
    {
     "name": "stdout",
     "output_type": "stream",
     "text": [
      "Tests Passed\n"
     ]
    }
   ],
   "source": [
    "def output(x_tensor, num_outputs):\n",
    "    \"\"\"\n",
    "    Apply a output layer to x_tensor using weight and bias\n",
    "    : x_tensor: A 2-D tensor where the first dimension is batch size.\n",
    "    : num_outputs: The number of output that the new tensor should be.\n",
    "    : return: A 2-D tensor where the second dimension is num_outputs.\n",
    "    \"\"\"\n",
    "    # TODO: Implement Function\n",
    "    return tf.layers.dense(\n",
    "      inputs=x_tensor,\n",
    "      units=num_outputs)\n",
    "\n",
    "\n",
    "\"\"\"\n",
    "DON'T MODIFY ANYTHING IN THIS CELL THAT IS BELOW THIS LINE\n",
    "\"\"\"\n",
    "tests.test_output(output)"
   ]
  },
  {
   "cell_type": "markdown",
   "metadata": {},
   "source": [
    "### Create Convolutional Model\n",
    "Implement the function `conv_net` to create a convolutional neural network model. The function takes in a batch of images, `x`, and outputs logits.  Use the layers you created above to create this model:\n",
    "\n",
    "* Apply 1, 2, or 3 Convolution and Max Pool layers\n",
    "* Apply a Flatten Layer\n",
    "* Apply 1, 2, or 3 Fully Connected Layers\n",
    "* Apply an Output Layer\n",
    "* Return the output\n",
    "* Apply [TensorFlow's Dropout](https://www.tensorflow.org/api_docs/python/tf/nn/dropout) to one or more layers in the model using `keep_prob`. "
   ]
  },
  {
   "cell_type": "code",
   "execution_count": 12,
   "metadata": {},
   "outputs": [
    {
     "name": "stdout",
     "output_type": "stream",
     "text": [
      "Neural Network Built!\n"
     ]
    }
   ],
   "source": [
    "def conv_net(x, keep_prob):\n",
    "    \"\"\"\n",
    "    Create a convolutional neural network model\n",
    "    : x: Placeholder tensor that holds image data.\n",
    "    : keep_prob: Placeholder tensor that hold dropout keep probability.\n",
    "    : return: Tensor that represents logits\n",
    "    \"\"\"\n",
    "    # TODO: Apply 1, 2, or 3 Convolution and Max Pool layers\n",
    "    #    Play around with different number of outputs, kernel size and stride\n",
    "    # Function Definition from Above:\n",
    "    #    conv2d_maxpool(x_tensor, conv_num_outputs, conv_ksize, conv_strides, pool_ksize, pool_strides)\n",
    "    conv2d = conv2d_maxpool(x, 40, (2,2), (2,2), (2,2), (2,2))\n",
    "    \n",
    "    # TODO: Apply a Flatten Layer\n",
    "    # Function Definition from Above:\n",
    "    #   flatten(x_tensor)\n",
    "    flat = flatten(conv2d)\n",
    "\n",
    "    # TODO: Apply 1, 2, or 3 Fully Connected Layers\n",
    "    #    Play around with different number of outputs\n",
    "    # Function Definition from Above:\n",
    "\n",
    "    full_con = fully_conn(flat, 20)\n",
    "    \n",
    "    # TODO: Apply an Output Layer\n",
    "    #    Set this to the number of classes\n",
    "    # Function Definition from Above:\n",
    "    #   output(x_tensor, num_outputs)\n",
    "    logits = output(full_con, 10)\n",
    "    \n",
    "    # TODO: return output\n",
    "    return logits\n",
    "\n",
    "\n",
    "\"\"\"\n",
    "DON'T MODIFY ANYTHING IN THIS CELL THAT IS BELOW THIS LINE\n",
    "\"\"\"\n",
    "\n",
    "##############################\n",
    "## Build the Neural Network ##\n",
    "##############################\n",
    "\n",
    "# Remove previous weights, bias, inputs, etc..\n",
    "tf.reset_default_graph()\n",
    "\n",
    "# Inputs\n",
    "x = neural_net_image_input((32, 32, 3))\n",
    "y = neural_net_label_input(10)\n",
    "keep_prob = neural_net_keep_prob_input()\n",
    "\n",
    "# Model\n",
    "logits = conv_net(x, keep_prob)\n",
    "\n",
    "# Name logits Tensor, so that is can be loaded from disk after training\n",
    "logits = tf.identity(logits, name='logits')\n",
    "\n",
    "# Loss and Optimizer\n",
    "cost = tf.reduce_mean(tf.nn.softmax_cross_entropy_with_logits(logits=logits, labels=y))\n",
    "optimizer = tf.train.AdamOptimizer().minimize(cost)\n",
    "\n",
    "# Accuracy\n",
    "correct_pred = tf.equal(tf.argmax(logits, 1), tf.argmax(y, 1))\n",
    "accuracy = tf.reduce_mean(tf.cast(correct_pred, tf.float32), name='accuracy')\n",
    "\n",
    "tests.test_conv_net(conv_net)"
   ]
  },
  {
   "cell_type": "markdown",
   "metadata": {},
   "source": [
    "## Train the Neural Network\n",
    "### Single Optimization\n",
    "Implement the function `train_neural_network` to do a single optimization.  The optimization should use `optimizer` to optimize in `session` with a `feed_dict` of the following:\n",
    "* `x` for image input\n",
    "* `y` for labels\n",
    "* `keep_prob` for keep probability for dropout\n",
    "\n",
    "This function will be called for each batch, so `tf.global_variables_initializer()` has already been called.\n",
    "\n",
    "Note: Nothing needs to be returned. This function is only optimizing the neural network."
   ]
  },
  {
   "cell_type": "code",
   "execution_count": 13,
   "metadata": {},
   "outputs": [
    {
     "name": "stdout",
     "output_type": "stream",
     "text": [
      "Tests Passed\n"
     ]
    }
   ],
   "source": [
    "def train_neural_network(session, optimizer, keep_probability, feature_batch, label_batch):\n",
    "    \"\"\"\n",
    "    Optimize the session on a batch of images and labels\n",
    "    : session: Current TensorFlow session\n",
    "    : optimizer: TensorFlow optimizer function\n",
    "    : keep_probability: keep probability\n",
    "    : feature_batch: Batch of Numpy image data\n",
    "    : label_batch: Batch of Numpy label data\n",
    "    \"\"\"\n",
    "    # TODO: Implement Function\n",
    "    session.run(optimizer, feed_dict = {keep_prob:keep_probability, x:feature_batch, y:label_batch})\n",
    "    pass\n",
    "\n",
    "\n",
    "\"\"\"\n",
    "DON'T MODIFY ANYTHING IN THIS CELL THAT IS BELOW THIS LINE\n",
    "\"\"\"\n",
    "tests.test_train_nn(train_neural_network)"
   ]
  },
  {
   "cell_type": "markdown",
   "metadata": {},
   "source": [
    "### Show Stats\n",
    "Implement the function `print_stats` to print loss and validation accuracy.  Use the global variables `valid_features` and `valid_labels` to calculate validation accuracy.  Use a keep probability of `1.0` to calculate the loss and validation accuracy."
   ]
  },
  {
   "cell_type": "code",
   "execution_count": 14,
   "metadata": {
    "collapsed": true
   },
   "outputs": [],
   "source": [
    "def print_stats(session, feature_batch, label_batch, cost, accuracy):\n",
    "    \"\"\"\n",
    "    Print information about loss and validation accuracy\n",
    "    : session: Current TensorFlow session\n",
    "    : feature_batch: Batch of Numpy image data\n",
    "    : label_batch: Batch of Numpy label data\n",
    "    : cost: TensorFlow cost function\n",
    "    : accuracy: TensorFlow accuracy function\n",
    "    \"\"\"\n",
    "    # TODO: Implement Function\n",
    "    cost     = session.run(cost,     feed_dict = {x:feature_batch,  y:label_batch,  keep_prob:1.0})\n",
    "    accuracy = session.run(accuracy, feed_dict = {x:valid_features, y:valid_labels, keep_prob:1.0})\n",
    "    print(\"loss:{} accuracy: {}\".format(cost, accuracy))\n",
    "    pass"
   ]
  },
  {
   "cell_type": "markdown",
   "metadata": {},
   "source": [
    "### Hyperparameters\n",
    "Tune the following parameters:\n",
    "* Set `epochs` to the number of iterations until the network stops learning or start overfitting\n",
    "* Set `batch_size` to the highest number that your machine has memory for.  Most people set them to common sizes of memory:\n",
    " * 64\n",
    " * 128\n",
    " * 256\n",
    " * ...\n",
    "* Set `keep_probability` to the probability of keeping a node using dropout"
   ]
  },
  {
   "cell_type": "code",
   "execution_count": 15,
   "metadata": {
    "collapsed": true
   },
   "outputs": [],
   "source": [
    "# TODO: Tune Parameters\n",
    "epochs = 25\n",
    "batch_size = 256\n",
    "keep_probability = 0.25"
   ]
  },
  {
   "cell_type": "markdown",
   "metadata": {},
   "source": [
    "### Train on a Single CIFAR-10 Batch\n",
    "Instead of training the neural network on all the CIFAR-10 batches of data, let's use a single batch. This should save time while you iterate on the model to get a better accuracy.  Once the final validation accuracy is 50% or greater, run the model on all the data in the next section."
   ]
  },
  {
   "cell_type": "code",
   "execution_count": 16,
   "metadata": {},
   "outputs": [
    {
     "name": "stdout",
     "output_type": "stream",
     "text": [
      "Checking the Training on a Single Batch...\n",
      "Epoch  1, CIFAR-10 Batch 1:  loss:2.1005191802978516 accuracy: 0.25459998846054077\n",
      "Epoch  2, CIFAR-10 Batch 1:  loss:1.8610095977783203 accuracy: 0.33000001311302185\n",
      "Epoch  3, CIFAR-10 Batch 1:  loss:1.6076236963272095 accuracy: 0.3889999985694885\n",
      "Epoch  4, CIFAR-10 Batch 1:  loss:1.441111445426941 accuracy: 0.4189999997615814\n",
      "Epoch  5, CIFAR-10 Batch 1:  loss:1.3211251497268677 accuracy: 0.4359999895095825\n",
      "Epoch  6, CIFAR-10 Batch 1:  loss:1.2151730060577393 accuracy: 0.4456000030040741\n",
      "Epoch  7, CIFAR-10 Batch 1:  loss:1.1282402276992798 accuracy: 0.45260000228881836\n",
      "Epoch  8, CIFAR-10 Batch 1:  loss:1.0568336248397827 accuracy: 0.45719999074935913\n",
      "Epoch  9, CIFAR-10 Batch 1:  loss:0.9954501986503601 accuracy: 0.45660001039505005\n",
      "Epoch 10, CIFAR-10 Batch 1:  loss:0.9422300457954407 accuracy: 0.4634000062942505\n",
      "Epoch 11, CIFAR-10 Batch 1:  loss:0.8959659337997437 accuracy: 0.4749999940395355\n",
      "Epoch 12, CIFAR-10 Batch 1:  loss:0.8538005948066711 accuracy: 0.48339998722076416\n",
      "Epoch 13, CIFAR-10 Batch 1:  loss:0.8121668100357056 accuracy: 0.4875999987125397\n",
      "Epoch 14, CIFAR-10 Batch 1:  loss:0.7713310122489929 accuracy: 0.4903999865055084\n",
      "Epoch 15, CIFAR-10 Batch 1:  loss:0.7334932684898376 accuracy: 0.492000013589859\n",
      "Epoch 16, CIFAR-10 Batch 1:  loss:0.6994398832321167 accuracy: 0.49300000071525574\n",
      "Epoch 17, CIFAR-10 Batch 1:  loss:0.668604850769043 accuracy: 0.4887999892234802\n",
      "Epoch 18, CIFAR-10 Batch 1:  loss:0.6377661824226379 accuracy: 0.48500001430511475\n",
      "Epoch 19, CIFAR-10 Batch 1:  loss:0.6020507216453552 accuracy: 0.49939998984336853\n",
      "Epoch 20, CIFAR-10 Batch 1:  loss:0.6701027154922485 accuracy: 0.5121999979019165\n",
      "Epoch 21, CIFAR-10 Batch 1:  loss:0.6469100117683411 accuracy: 0.5192000269889832\n",
      "Epoch 22, CIFAR-10 Batch 1:  loss:0.5939940810203552 accuracy: 0.5239999890327454\n",
      "Epoch 23, CIFAR-10 Batch 1:  loss:0.5629614591598511 accuracy: 0.5234000086784363\n",
      "Epoch 24, CIFAR-10 Batch 1:  loss:0.5354579091072083 accuracy: 0.5231999754905701\n",
      "Epoch 25, CIFAR-10 Batch 1:  loss:0.5098774433135986 accuracy: 0.5234000086784363\n"
     ]
    }
   ],
   "source": [
    "\"\"\"\n",
    "DON'T MODIFY ANYTHING IN THIS CELL\n",
    "\"\"\"\n",
    "print('Checking the Training on a Single Batch...')\n",
    "with tf.Session() as sess:\n",
    "    # Initializing the variables\n",
    "    sess.run(tf.global_variables_initializer())\n",
    "    \n",
    "    # Training cycle\n",
    "    for epoch in range(epochs):\n",
    "        batch_i = 1\n",
    "        for batch_features, batch_labels in helper.load_preprocess_training_batch(batch_i, batch_size):\n",
    "            train_neural_network(sess, optimizer, keep_probability, batch_features, batch_labels)\n",
    "        print('Epoch {:>2}, CIFAR-10 Batch {}:  '.format(epoch + 1, batch_i), end='')\n",
    "        print_stats(sess, batch_features, batch_labels, cost, accuracy)"
   ]
  },
  {
   "cell_type": "markdown",
   "metadata": {},
   "source": [
    "### Fully Train the Model\n",
    "Now that you got a good accuracy with a single CIFAR-10 batch, try it with all five batches."
   ]
  },
  {
   "cell_type": "code",
   "execution_count": 17,
   "metadata": {},
   "outputs": [
    {
     "name": "stdout",
     "output_type": "stream",
     "text": [
      "Training...\n",
      "Epoch  1, CIFAR-10 Batch 1:  loss:1.815871238708496 accuracy: 0.2800000011920929\n",
      "Epoch  1, CIFAR-10 Batch 2:  loss:1.7406724691390991 accuracy: 0.3763999938964844\n",
      "Epoch  1, CIFAR-10 Batch 3:  loss:1.3742121458053589 accuracy: 0.4456000030040741\n",
      "Epoch  1, CIFAR-10 Batch 4:  loss:1.4899981021881104 accuracy: 0.46000000834465027\n",
      "Epoch  1, CIFAR-10 Batch 5:  loss:1.4864747524261475 accuracy: 0.4903999865055084\n",
      "Epoch  2, CIFAR-10 Batch 1:  loss:1.597866177558899 accuracy: 0.4828000068664551\n",
      "Epoch  2, CIFAR-10 Batch 2:  loss:1.2058629989624023 accuracy: 0.49540001153945923\n",
      "Epoch  2, CIFAR-10 Batch 3:  loss:1.038966417312622 accuracy: 0.5199999809265137\n",
      "Epoch  2, CIFAR-10 Batch 4:  loss:1.2137451171875 accuracy: 0.5212000012397766\n",
      "Epoch  2, CIFAR-10 Batch 5:  loss:1.252341866493225 accuracy: 0.5260000228881836\n",
      "Epoch  3, CIFAR-10 Batch 1:  loss:1.3527107238769531 accuracy: 0.5220000147819519\n",
      "Epoch  3, CIFAR-10 Batch 2:  loss:1.0138353109359741 accuracy: 0.5194000005722046\n",
      "Epoch  3, CIFAR-10 Batch 3:  loss:0.8897501826286316 accuracy: 0.5460000038146973\n",
      "Epoch  3, CIFAR-10 Batch 4:  loss:1.080183506011963 accuracy: 0.54339998960495\n",
      "Epoch  3, CIFAR-10 Batch 5:  loss:1.1320831775665283 accuracy: 0.5419999957084656\n",
      "Epoch  4, CIFAR-10 Batch 1:  loss:1.2436765432357788 accuracy: 0.548799991607666\n",
      "Epoch  4, CIFAR-10 Batch 2:  loss:0.859514594078064 accuracy: 0.5504000186920166\n",
      "Epoch  4, CIFAR-10 Batch 3:  loss:0.7680269479751587 accuracy: 0.5633999705314636\n",
      "Epoch  4, CIFAR-10 Batch 4:  loss:0.9973312616348267 accuracy: 0.5587999820709229\n",
      "Epoch  4, CIFAR-10 Batch 5:  loss:1.0183016061782837 accuracy: 0.5532000064849854\n",
      "Epoch  5, CIFAR-10 Batch 1:  loss:1.1659660339355469 accuracy: 0.5618000030517578\n",
      "Epoch  5, CIFAR-10 Batch 2:  loss:0.7562427520751953 accuracy: 0.5623999834060669\n",
      "Epoch  5, CIFAR-10 Batch 3:  loss:0.686129629611969 accuracy: 0.5723999738693237\n",
      "Epoch  5, CIFAR-10 Batch 4:  loss:0.9247156381607056 accuracy: 0.5681999921798706\n",
      "Epoch  5, CIFAR-10 Batch 5:  loss:0.9375767707824707 accuracy: 0.567799985408783\n",
      "Epoch  6, CIFAR-10 Batch 1:  loss:1.0977524518966675 accuracy: 0.576200008392334\n",
      "Epoch  6, CIFAR-10 Batch 2:  loss:0.6857572793960571 accuracy: 0.5699999928474426\n",
      "Epoch  6, CIFAR-10 Batch 3:  loss:0.6382954716682434 accuracy: 0.5703999996185303\n",
      "Epoch  6, CIFAR-10 Batch 4:  loss:0.8650087118148804 accuracy: 0.5741999745368958\n",
      "Epoch  6, CIFAR-10 Batch 5:  loss:0.8751036524772644 accuracy: 0.5752000212669373\n",
      "Epoch  7, CIFAR-10 Batch 1:  loss:1.0446646213531494 accuracy: 0.5845999717712402\n",
      "Epoch  7, CIFAR-10 Batch 2:  loss:0.6384395956993103 accuracy: 0.5756000280380249\n",
      "Epoch  7, CIFAR-10 Batch 3:  loss:0.6022292971611023 accuracy: 0.5817999839782715\n",
      "Epoch  7, CIFAR-10 Batch 4:  loss:0.8160436749458313 accuracy: 0.5781999826431274\n",
      "Epoch  7, CIFAR-10 Batch 5:  loss:0.8204454183578491 accuracy: 0.5771999955177307\n",
      "Epoch  8, CIFAR-10 Batch 1:  loss:0.9986866116523743 accuracy: 0.5896000266075134\n",
      "Epoch  8, CIFAR-10 Batch 2:  loss:0.6023619771003723 accuracy: 0.5771999955177307\n",
      "Epoch  8, CIFAR-10 Batch 3:  loss:0.5768915414810181 accuracy: 0.5892000198364258\n",
      "Epoch  8, CIFAR-10 Batch 4:  loss:0.7656282186508179 accuracy: 0.5853999853134155\n",
      "Epoch  8, CIFAR-10 Batch 5:  loss:0.7816319465637207 accuracy: 0.5825999975204468\n",
      "Epoch  9, CIFAR-10 Batch 1:  loss:0.9553961753845215 accuracy: 0.5911999940872192\n",
      "Epoch  9, CIFAR-10 Batch 2:  loss:0.5686098337173462 accuracy: 0.5781999826431274\n",
      "Epoch  9, CIFAR-10 Batch 3:  loss:0.5576556324958801 accuracy: 0.592199981212616\n",
      "Epoch  9, CIFAR-10 Batch 4:  loss:0.7215267419815063 accuracy: 0.590399980545044\n",
      "Epoch  9, CIFAR-10 Batch 5:  loss:0.7504443526268005 accuracy: 0.5863999724388123\n",
      "Epoch 10, CIFAR-10 Batch 1:  loss:0.9175068140029907 accuracy: 0.5947999954223633\n",
      "Epoch 10, CIFAR-10 Batch 2:  loss:0.5386134386062622 accuracy: 0.5825999975204468\n",
      "Epoch 10, CIFAR-10 Batch 3:  loss:0.539976954460144 accuracy: 0.597000002861023\n",
      "Epoch 10, CIFAR-10 Batch 4:  loss:0.6847747564315796 accuracy: 0.5947999954223633\n",
      "Epoch 10, CIFAR-10 Batch 5:  loss:0.7229465842247009 accuracy: 0.5916000008583069\n",
      "Epoch 11, CIFAR-10 Batch 1:  loss:0.8839691877365112 accuracy: 0.5983999967575073\n",
      "Epoch 11, CIFAR-10 Batch 2:  loss:0.514415979385376 accuracy: 0.5802000164985657\n",
      "Epoch 11, CIFAR-10 Batch 3:  loss:0.522495448589325 accuracy: 0.5953999757766724\n",
      "Epoch 11, CIFAR-10 Batch 4:  loss:0.6534281969070435 accuracy: 0.5932000279426575\n",
      "Epoch 11, CIFAR-10 Batch 5:  loss:0.6979086995124817 accuracy: 0.5932000279426575\n",
      "Epoch 12, CIFAR-10 Batch 1:  loss:0.8546924591064453 accuracy: 0.5968000292778015\n",
      "Epoch 12, CIFAR-10 Batch 2:  loss:0.4926391541957855 accuracy: 0.5806000232696533\n",
      "Epoch 12, CIFAR-10 Batch 3:  loss:0.5054389834403992 accuracy: 0.59579998254776\n",
      "Epoch 12, CIFAR-10 Batch 4:  loss:0.625140368938446 accuracy: 0.5950000286102295\n",
      "Epoch 12, CIFAR-10 Batch 5:  loss:0.6743819117546082 accuracy: 0.5938000082969666\n",
      "Epoch 13, CIFAR-10 Batch 1:  loss:0.8291311264038086 accuracy: 0.5953999757766724\n",
      "Epoch 13, CIFAR-10 Batch 2:  loss:0.4720815122127533 accuracy: 0.5813999772071838\n",
      "Epoch 13, CIFAR-10 Batch 3:  loss:0.4897646903991699 accuracy: 0.5971999764442444\n",
      "Epoch 13, CIFAR-10 Batch 4:  loss:0.5998206734657288 accuracy: 0.5979999899864197\n",
      "Epoch 13, CIFAR-10 Batch 5:  loss:0.6532536745071411 accuracy: 0.5952000021934509\n",
      "Epoch 14, CIFAR-10 Batch 1:  loss:0.8047901391983032 accuracy: 0.5964000225067139\n",
      "Epoch 14, CIFAR-10 Batch 2:  loss:0.4531707167625427 accuracy: 0.5825999975204468\n",
      "Epoch 14, CIFAR-10 Batch 3:  loss:0.4751405715942383 accuracy: 0.5968000292778015\n",
      "Epoch 14, CIFAR-10 Batch 4:  loss:0.5766966938972473 accuracy: 0.5996000170707703\n",
      "Epoch 14, CIFAR-10 Batch 5:  loss:0.6332466006278992 accuracy: 0.5961999893188477\n",
      "Epoch 15, CIFAR-10 Batch 1:  loss:0.7815804481506348 accuracy: 0.5985999703407288\n",
      "Epoch 15, CIFAR-10 Batch 2:  loss:0.4367772936820984 accuracy: 0.5830000042915344\n",
      "Epoch 15, CIFAR-10 Batch 3:  loss:0.46139827370643616 accuracy: 0.5982000231742859\n",
      "Epoch 15, CIFAR-10 Batch 4:  loss:0.556562066078186 accuracy: 0.6011999845504761\n",
      "Epoch 15, CIFAR-10 Batch 5:  loss:0.6140462756156921 accuracy: 0.597000002861023\n",
      "Epoch 16, CIFAR-10 Batch 1:  loss:0.7597402334213257 accuracy: 0.5979999899864197\n",
      "Epoch 16, CIFAR-10 Batch 2:  loss:0.4216615557670593 accuracy: 0.5860000252723694\n",
      "Epoch 16, CIFAR-10 Batch 3:  loss:0.44840431213378906 accuracy: 0.6007999777793884\n",
      "Epoch 16, CIFAR-10 Batch 4:  loss:0.5377322435379028 accuracy: 0.6000000238418579\n",
      "Epoch 16, CIFAR-10 Batch 5:  loss:0.5962464213371277 accuracy: 0.5971999764442444\n",
      "Epoch 17, CIFAR-10 Batch 1:  loss:0.7376828789710999 accuracy: 0.5985999703407288\n",
      "Epoch 17, CIFAR-10 Batch 2:  loss:0.40774089097976685 accuracy: 0.5857999920845032\n",
      "Epoch 17, CIFAR-10 Batch 3:  loss:0.43538951873779297 accuracy: 0.6025999784469604\n",
      "Epoch 17, CIFAR-10 Batch 4:  loss:0.5210167765617371 accuracy: 0.600600004196167\n",
      "Epoch 17, CIFAR-10 Batch 5:  loss:0.5799692869186401 accuracy: 0.5971999764442444\n",
      "Epoch 18, CIFAR-10 Batch 1:  loss:0.7171313166618347 accuracy: 0.5996000170707703\n",
      "Epoch 18, CIFAR-10 Batch 2:  loss:0.3944765329360962 accuracy: 0.5861999988555908\n",
      "Epoch 18, CIFAR-10 Batch 3:  loss:0.4235649108886719 accuracy: 0.6032000184059143\n",
      "Epoch 18, CIFAR-10 Batch 4:  loss:0.5051673650741577 accuracy: 0.6000000238418579\n",
      "Epoch 18, CIFAR-10 Batch 5:  loss:0.5648706555366516 accuracy: 0.5978000164031982\n",
      "Epoch 19, CIFAR-10 Batch 1:  loss:0.6976908445358276 accuracy: 0.5982000231742859\n",
      "Epoch 19, CIFAR-10 Batch 2:  loss:0.38196632266044617 accuracy: 0.5881999731063843\n",
      "Epoch 19, CIFAR-10 Batch 3:  loss:0.41335445642471313 accuracy: 0.6046000123023987\n",
      "Epoch 19, CIFAR-10 Batch 4:  loss:0.4912710189819336 accuracy: 0.6014000177383423\n",
      "Epoch 19, CIFAR-10 Batch 5:  loss:0.5506094694137573 accuracy: 0.5968000292778015\n",
      "Epoch 20, CIFAR-10 Batch 1:  loss:0.6795705556869507 accuracy: 0.6007999777793884\n",
      "Epoch 20, CIFAR-10 Batch 2:  loss:0.3713727593421936 accuracy: 0.5893999934196472\n",
      "Epoch 20, CIFAR-10 Batch 3:  loss:0.402775377035141 accuracy: 0.6047999858856201\n",
      "Epoch 20, CIFAR-10 Batch 4:  loss:0.478013813495636 accuracy: 0.600600004196167\n",
      "Epoch 20, CIFAR-10 Batch 5:  loss:0.5376437306404114 accuracy: 0.59579998254776\n"
     ]
    },
    {
     "name": "stdout",
     "output_type": "stream",
     "text": [
      "Epoch 21, CIFAR-10 Batch 1:  loss:0.6623178720474243 accuracy: 0.6014000177383423\n",
      "Epoch 21, CIFAR-10 Batch 2:  loss:0.36179620027542114 accuracy: 0.5892000198364258\n",
      "Epoch 21, CIFAR-10 Batch 3:  loss:0.39349639415740967 accuracy: 0.6019999980926514\n",
      "Epoch 21, CIFAR-10 Batch 4:  loss:0.46482211351394653 accuracy: 0.600600004196167\n",
      "Epoch 21, CIFAR-10 Batch 5:  loss:0.5265470743179321 accuracy: 0.59579998254776\n",
      "Epoch 22, CIFAR-10 Batch 1:  loss:0.6464776992797852 accuracy: 0.6010000109672546\n",
      "Epoch 22, CIFAR-10 Batch 2:  loss:0.3529135584831238 accuracy: 0.5892000198364258\n",
      "Epoch 22, CIFAR-10 Batch 3:  loss:0.38455405831336975 accuracy: 0.6018000245094299\n",
      "Epoch 22, CIFAR-10 Batch 4:  loss:0.45299139618873596 accuracy: 0.5996000170707703\n",
      "Epoch 22, CIFAR-10 Batch 5:  loss:0.5161604881286621 accuracy: 0.5968000292778015\n",
      "Epoch 23, CIFAR-10 Batch 1:  loss:0.6316227912902832 accuracy: 0.602400004863739\n",
      "Epoch 23, CIFAR-10 Batch 2:  loss:0.3443682789802551 accuracy: 0.5899999737739563\n",
      "Epoch 23, CIFAR-10 Batch 3:  loss:0.37659019231796265 accuracy: 0.6011999845504761\n",
      "Epoch 23, CIFAR-10 Batch 4:  loss:0.4427599310874939 accuracy: 0.5982000231742859\n",
      "Epoch 23, CIFAR-10 Batch 5:  loss:0.506393551826477 accuracy: 0.59579998254776\n",
      "Epoch 24, CIFAR-10 Batch 1:  loss:0.6181894540786743 accuracy: 0.6028000116348267\n",
      "Epoch 24, CIFAR-10 Batch 2:  loss:0.33741411566734314 accuracy: 0.5884000062942505\n",
      "Epoch 24, CIFAR-10 Batch 3:  loss:0.3681863248348236 accuracy: 0.6011999845504761\n",
      "Epoch 24, CIFAR-10 Batch 4:  loss:0.43235674500465393 accuracy: 0.5982000231742859\n",
      "Epoch 24, CIFAR-10 Batch 5:  loss:0.49719351530075073 accuracy: 0.5968000292778015\n",
      "Epoch 25, CIFAR-10 Batch 1:  loss:0.604914665222168 accuracy: 0.6015999913215637\n",
      "Epoch 25, CIFAR-10 Batch 2:  loss:0.3307678699493408 accuracy: 0.5888000130653381\n",
      "Epoch 25, CIFAR-10 Batch 3:  loss:0.36061134934425354 accuracy: 0.6007999777793884\n",
      "Epoch 25, CIFAR-10 Batch 4:  loss:0.4228976368904114 accuracy: 0.5985999703407288\n",
      "Epoch 25, CIFAR-10 Batch 5:  loss:0.4882592260837555 accuracy: 0.5974000096321106\n"
     ]
    }
   ],
   "source": [
    "\"\"\"\n",
    "DON'T MODIFY ANYTHING IN THIS CELL\n",
    "\"\"\"\n",
    "save_model_path = './image_classification'\n",
    "\n",
    "print('Training...')\n",
    "with tf.Session() as sess:\n",
    "    # Initializing the variables\n",
    "    sess.run(tf.global_variables_initializer())\n",
    "    \n",
    "    # Training cycle\n",
    "    for epoch in range(epochs):\n",
    "        # Loop over all batches\n",
    "        n_batches = 5\n",
    "        for batch_i in range(1, n_batches + 1):\n",
    "            for batch_features, batch_labels in helper.load_preprocess_training_batch(batch_i, batch_size):\n",
    "                train_neural_network(sess, optimizer, keep_probability, batch_features, batch_labels)\n",
    "            print('Epoch {:>2}, CIFAR-10 Batch {}:  '.format(epoch + 1, batch_i), end='')\n",
    "            print_stats(sess, batch_features, batch_labels, cost, accuracy)\n",
    "            \n",
    "    # Save Model\n",
    "    saver = tf.train.Saver()\n",
    "    save_path = saver.save(sess, save_model_path)"
   ]
  },
  {
   "cell_type": "markdown",
   "metadata": {},
   "source": [
    "# Checkpoint\n",
    "The model has been saved to disk.\n",
    "## Test Model\n",
    "Test your model against the test dataset.  This will be your final accuracy. You should have an accuracy greater than 50%. If you don't, keep tweaking the model architecture and parameters."
   ]
  },
  {
   "cell_type": "code",
   "execution_count": 19,
   "metadata": {},
   "outputs": [
    {
     "name": "stdout",
     "output_type": "stream",
     "text": [
      "Testing Accuracy: 0.6064453125\n",
      "\n"
     ]
    },
    {
     "data": {
      "image/png": "[encoded data removed]",
      "text/plain": [
       "<matplotlib.figure.Figure at 0x1114e7080>"
      ]
     },
     "metadata": {
      "image/png": {
       "height": 319,
       "width": 355
      }
     },
     "output_type": "display_data"
    }
   ],
   "source": [
    "\"\"\"\n",
    "DON'T MODIFY ANYTHING IN THIS CELL\n",
    "\"\"\"\n",
    "%matplotlib inline\n",
    "%config InlineBackend.figure_format = 'retina'\n",
    "\n",
    "import tensorflow as tf\n",
    "import pickle\n",
    "import helper\n",
    "import random\n",
    "\n",
    "# Set batch size if not already set\n",
    "try:\n",
    "    if batch_size:\n",
    "        pass\n",
    "except NameError:\n",
    "    batch_size = 64\n",
    "\n",
    "save_model_path = './image_classification'\n",
    "n_samples = 4\n",
    "top_n_predictions = 3\n",
    "\n",
    "def test_model():\n",
    "    \"\"\"\n",
    "    Test the saved model against the test dataset\n",
    "    \"\"\"\n",
    "\n",
    "    test_features, test_labels = pickle.load(open('preprocess_training.p', mode='rb'))\n",
    "    loaded_graph = tf.Graph()\n",
    "\n",
    "    with tf.Session(graph=loaded_graph) as sess:\n",
    "        # Load model\n",
    "        loader = tf.train.import_meta_graph(save_model_path + '.meta')\n",
    "        loader.restore(sess, save_model_path)\n",
    "\n",
    "        # Get Tensors from loaded model\n",
    "        loaded_x = loaded_graph.get_tensor_by_name('x:0')\n",
    "        loaded_y = loaded_graph.get_tensor_by_name('y:0')\n",
    "        loaded_keep_prob = loaded_graph.get_tensor_by_name('keep_prob:0')\n",
    "        loaded_logits = loaded_graph.get_tensor_by_name('logits:0')\n",
    "        loaded_acc = loaded_graph.get_tensor_by_name('accuracy:0')\n",
    "        \n",
    "        # Get accuracy in batches for memory limitations\n",
    "        test_batch_acc_total = 0\n",
    "        test_batch_count = 0\n",
    "        \n",
    "        for test_feature_batch, test_label_batch in helper.batch_features_labels(test_features, test_labels, batch_size):\n",
    "            test_batch_acc_total += sess.run(\n",
    "                loaded_acc,\n",
    "                feed_dict={loaded_x: test_feature_batch, loaded_y: test_label_batch, loaded_keep_prob: 1.0})\n",
    "            test_batch_count += 1\n",
    "\n",
    "        print('Testing Accuracy: {}\\n'.format(test_batch_acc_total/test_batch_count))\n",
    "\n",
    "        # Print Random Samples\n",
    "        random_test_features, random_test_labels = tuple(zip(*random.sample(list(zip(test_features, test_labels)), n_samples)))\n",
    "        random_test_predictions = sess.run(\n",
    "            tf.nn.top_k(tf.nn.softmax(loaded_logits), top_n_predictions),\n",
    "            feed_dict={loaded_x: random_test_features, loaded_y: random_test_labels, loaded_keep_prob: 1.0})\n",
    "        helper.display_image_predictions(random_test_features, random_test_labels, random_test_predictions)\n",
    "\n",
    "\n",
    "test_model()"
   ]
  },
  {
   "cell_type": "markdown",
   "metadata": {},
   "source": [
    "## Why 50-80% Accuracy?\n",
    "You might be wondering why you can't get an accuracy any higher. First things first, 50% isn't bad for a simple CNN.  Pure guessing would get you 10% accuracy. However, you might notice people are getting scores [well above 80%](http://rodrigob.github.io/are_we_there_yet/build/classification_datasets_results.html#43494641522d3130).  That's because we haven't taught you all there is to know about neural networks. We still need to cover a few more techniques.\n",
    "## Submitting This Project\n",
    "When submitting this project, make sure to run all the cells before saving the notebook.  Save the notebook file as \"dlnd_image_classification.ipynb\" and save it as a HTML file under \"File\" -> \"Download as\".  Include the \"helper.py\" and \"problem_unittests.py\" files in your submission."
   ]
  }
 ],
 "metadata": {
  "kernelspec": {
   "display_name": "Python 3",
   "language": "python",
   "name": "python3"
  },
  "language_info": {
   "codemirror_mode": {
    "name": "ipython",
    "version": 3
   },
   "file_extension": ".py",
   "mimetype": "text/x-python",
   "name": "python",
   "nbconvert_exporter": "python",
   "pygments_lexer": "ipython3",
   "version": "3.5.3"
  }
 },
 "nbformat": 4,
 "nbformat_minor": 1
}
